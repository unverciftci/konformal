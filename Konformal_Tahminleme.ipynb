{
  "nbformat": 4,
  "nbformat_minor": 0,
  "metadata": {
    "colab": {
      "provenance": [],
      "authorship_tag": "ABX9TyNNTGOB5eC7Q6xlgp2dUTw2",
      "include_colab_link": true
    },
    "kernelspec": {
      "name": "python3",
      "display_name": "Python 3"
    },
    "language_info": {
      "name": "python"
    }
  },
  "cells": [
    {
      "cell_type": "markdown",
      "metadata": {
        "id": "view-in-github",
        "colab_type": "text"
      },
      "source": [
        "<a href=\"https://colab.research.google.com/github/unverciftci/konformal/blob/main/Konformal_Tahminleme.ipynb\" target=\"_parent\"><img src=\"https://colab.research.google.com/assets/colab-badge.svg\" alt=\"Open In Colab\"/></a>"
      ]
    },
    {
      "cell_type": "markdown",
      "source": [
        "## Konformal Tahminleme (Conformal Prediction)"
      ],
      "metadata": {
        "id": "B05NqZC7zzpD"
      }
    },
    {
      "cell_type": "markdown",
      "source": [
        "* Konformal tahminleme (conformal prediction) sayesinde makine öğrenmesi modellerinin tahminlerini kalibre edebiliyoruz.\n",
        "\n",
        "* Başka bir ifade ile modelimizin sonuçlarınan ne ölçüde emin olduğunu öğrenebiliyoruz.\n",
        "\n",
        "* Konformal tahminleme birçok modele uygulanabilir ve modelin eğitiminden sonra yeni tahminleri değerlendirmek için kullanılır.\n",
        "\n",
        "\n",
        "* Sınfılandırma, regresyon ve zaman serisi tahimini gibi birçok uygulaması vardır.\n",
        "\n",
        "* Biz burada sadece sınıflandırma için konformal tahminlemeyi en sade hali ile ele alacağız.\n",
        "\n",
        "* Daha gelişmiş yöntemleri zamanla inceleyeceğiz ancak bu alanın çok aktif bir araştırma alanı olduğunu ve büyük dil modellerine de uygulandığını belirtelim."
      ],
      "metadata": {
        "id": "3A5HMl2LyV-Y"
      }
    },
    {
      "cell_type": "markdown",
      "source": [
        "### Konformal Sınıflandırma\n",
        "\n",
        "Sınıflandırma problemi için kullanacağımız model olasılıksal sonuçlar versin. Örneğin bir yapay sinir ağı ve son katanda \"softmax\" aktivasyon fonksiyonu olabilir.\n",
        "\n",
        "\n",
        "\n",
        "\n",
        "Sınıflandırma problemimizde el yazması rakam tanıma olsun."
      ],
      "metadata": {
        "id": "Emz93g4U0JSs"
      }
    },
    {
      "cell_type": "markdown",
      "source": [
        "### İzleyeceğimiz yol şu şekilde:\n",
        "\n",
        "#### Kalibrasyon Aşaması\n",
        "* Modeli eğitelim ama daha önceden eğitilmiş bir modeli de kullanabilirz.\n",
        "* Kalibrasyon kümemiz ile tahminler alalım.\n",
        "* Bu tahminlerin doğru sınıfa ait olanlarını sadece kullanacağız.\n",
        "* Sonuçları 1'den çıkaralım.\n",
        "* Elde ettiğimiz sayıların örneğin %5'lik kısmını atalım.\n",
        "\n",
        "#### Tahmin Aşaması\n",
        "\n",
        "* Yeni bir veri için tahmin yaparken %5'lik oranın üzerindeki sınıfları alalım.\n",
        "* Bazen bir tek sınıf bazen de birden fazla sınıf şartları sağlayabilir.\n"
      ],
      "metadata": {
        "id": "X_Q_42sX8bhB"
      }
    },
    {
      "cell_type": "markdown",
      "source": [
        "### Matematiksel olarak ifade edelim\n",
        "\n",
        "Elimizde eğitilmiş bir model var ve $x$ versi için $\\hat{f}(x)$ tahminlerini alabiliyoruz:\n",
        "\n",
        "$x$ --> $\\hat{f}(x)$\n",
        "\n",
        "Kalibrasyon kümemiz $X_{cal} = {x_1, ..., x_n}$ olsun. Örneğimizde n=360.\n",
        "\n",
        "\n",
        "İzleyeceğimiz adımlar şöyle:\n",
        "\n",
        "\n",
        "1.  Eğitilmiş modelden kalibrasyon kümemizin tahminlerini alalım: ${\\hat{f}(x_1), ..., \\hat{f}(x_n)}$.\n",
        "2.   Ardından doğru sınıflar için tahminleri alalım:\n",
        "${\\hat{f}(x_1)y_1, ..., \\hat{f}(x_n)y_n}$.\n",
        "3. Skorları hesaplayalım:\n",
        "$s_1=1−\\hat{f}(x_1)y_1, ..., s_n=1−\\hat{f}(x_n)y_n$}\n",
        "\n",
        "\n",
        "Şimdi, güven aralıklarında olduğu gibi $\\alpha$ değerini belirleyelim. Öreneğin 0.05 olabilir.\n",
        "\n",
        "Skorla için bir seviye bulalım: $q_{level}= 1- \\frac{1+n}{n}(1-\\alpha)$.\n",
        "\n",
        "Şimdi eşik değerimizi bulalım: bunun için skorların kümesinin $q_level$ kuantilini bulacağız.\n",
        "$\\hat{q}=\\text{quantile}(q_{level})$.\n",
        "\n",
        "Artık kalibrasyon işlemi tamam. Modeli günlük hayatta uygularken yeni veri için şunları yapıyoruz.\n",
        "\n",
        "Yeni veri $x_{new}$ olsun.\n",
        "\n",
        "1. Önce $\\hat{f}(x_{new})$ hesaplanıyor.\n",
        "2. Sonra $1- \\hat{f}(x_{new})$ skoru bulunuyor.\n",
        "3. Bu dizin içerisinde $\\hat{q}$ eşiğinin üzerindeki sınıfları seçiyoruz.\n",
        "\n",
        "Teorik olarak bu %95 güvenli bir tahmin oluyor. Yani genel olarak 1-$\\alpha$.\n",
        "\n",
        "\n",
        "\n"
      ],
      "metadata": {
        "id": "ZlTU-9EY_uns"
      }
    },
    {
      "cell_type": "code",
      "execution_count": null,
      "metadata": {
        "id": "MY-MlmtkyRb9",
        "cellView": "form"
      },
      "outputs": [],
      "source": [
        "# @title Gerekli Kütüphaneler\n",
        "import random\n",
        "import numpy as np\n",
        "import tensorflow as tf\n",
        "import matplotlib.pyplot as plt\n",
        "%matplotlib inline\n",
        "from sklearn.datasets import load_digits\n",
        "from sklearn.model_selection import train_test_split"
      ]
    },
    {
      "cell_type": "code",
      "source": [
        "# @title Veriyi yükleyelim ve bir kısmına bakalım\n",
        "digits = load_digits()\n",
        "X = digits.data / 255.\n",
        "print('Veri boyutu', X.shape)\n",
        "\n",
        "\n",
        "def plot_digits(data, w=8):\n",
        "    fig, axes = plt.subplots(4, 10, figsize=(10, 4),\n",
        "                             subplot_kw={'xticks':[], 'yticks':[]},\n",
        "                             gridspec_kw=dict(hspace=0.1, wspace=0.1))\n",
        "    for i, ax in enumerate(axes.flat):\n",
        "        ax.imshow(data[i].reshape(w, w),\n",
        "                  cmap='binary', interpolation='nearest',\n",
        "                  clim=(0, 16))\n",
        "\n",
        "plot_digits(digits.data)"
      ],
      "metadata": {
        "colab": {
          "base_uri": "https://localhost:8080/",
          "height": 362
        },
        "cellView": "form",
        "id": "lw-Xiqw1UBtH",
        "outputId": "dbf7e5e3-b679-4fa4-d39a-89d6e27c0590"
      },
      "execution_count": null,
      "outputs": [
        {
          "output_type": "stream",
          "name": "stdout",
          "text": [
            "Veri boyutu (1797, 64)\n"
          ]
        },
        {
          "output_type": "display_data",
          "data": {
            "text/plain": [
              "<Figure size 1000x400 with 40 Axes>"
            ],
            "image/png": "[encoded data removed]"
          },
          "metadata": {}
        }
      ]
    },
    {
      "cell_type": "code",
      "source": [
        "# @title Veriyi eğtim, kalibrasyon ve hiç görmeyeceği veri olarak ayıralım\n",
        "train_ratio = 0.75\n",
        "test_ratio = 0.20\n",
        "validation_ratio = 0.05\n",
        "\n",
        "X_train, X_cal, y_train, y_cal = train_test_split(X, digits.target, test_size=test_ratio, random_state=10)\n",
        "\n",
        "X_train, X_new, y_train, y_new = train_test_split(X_train, y_train, test_size=validation_ratio/(train_ratio+test_ratio), random_state=10)\n",
        "\n",
        "\n",
        "print(\"Eğitim kümesi\", len(X_train), \"veri\")\n",
        "print(\"Kalibrasyon kümesi\", len(X_cal), \"veri\")\n",
        "print(\"Kullanılmayan veri\", len(X_new), \"veri\")\n",
        "\n"
      ],
      "metadata": {
        "colab": {
          "base_uri": "https://localhost:8080/"
        },
        "cellView": "form",
        "id": "jgz-9EQwUAi3",
        "outputId": "06eabdb8-ec43-422c-a499-84e66055f729"
      },
      "execution_count": null,
      "outputs": [
        {
          "output_type": "stream",
          "name": "stdout",
          "text": [
            "Eğitim kümesi 1361 veri\n",
            "Kalibrasyon kümesi 360 veri\n",
            "Kullanılmayan veri 76 veri\n"
          ]
        }
      ]
    },
    {
      "cell_type": "markdown",
      "source": [
        "Yukarıda örneklerini gördüğünüz gibi 1797 tane 8x8 boyutunda resimlerimiz var ama düzleştirilmiş ve 64 boyutlu vektörler oluşmuş.\n",
        "\n"
      ],
      "metadata": {
        "id": "jXLroijG1XgU"
      }
    },
    {
      "cell_type": "markdown",
      "source": [
        "Şimdi verinin bir kısmını kabirason için ayıralım, %20 olabilir."
      ],
      "metadata": {
        "id": "yqZazODt2YxM"
      }
    },
    {
      "cell_type": "markdown",
      "source": [
        "Modelimiz 64 girdili ve 10 çıktılı yapay sinir ağı. İki gizli katmanı var ve bunlarda 16'şar nöron bulunuyor. Çıktı aktivasyon fonksiyonumuz \"softmax\"."
      ],
      "metadata": {
        "id": "jASZWiv_3g98"
      }
    },
    {
      "cell_type": "code",
      "source": [
        "# @title Modeli oluşturalım\n",
        "inputs = tf.keras.Input((64,))\n",
        "x = tf.keras.layers.Dense(\n",
        "    units=32,\n",
        "    activation='relu'\n",
        ")(inputs)\n",
        "x = tf.keras.layers.Dense(\n",
        "    units=32,\n",
        "    activation='relu'\n",
        ")(x)\n",
        "outputs = tf.keras.layers.Dense(\n",
        "    units=10,\n",
        "    activation='softmax'\n",
        ")(x)\n",
        "model = tf.keras.Model(inputs=inputs, outputs=outputs)\n",
        "\n",
        "model.compile(\n",
        "    optimizer=tf.keras.optimizers.Adam(0.001),\n",
        "    loss=tf.keras.losses.SparseCategoricalCrossentropy(from_logits=True),\n",
        "    metrics=[tf.keras.metrics.SparseCategoricalAccuracy()],\n",
        ")"
      ],
      "metadata": {
        "id": "Dr_payOu2teE"
      },
      "execution_count": null,
      "outputs": []
    },
    {
      "cell_type": "code",
      "source": [
        "# @title Modelin yapısını görelim\n",
        "model.summary()"
      ],
      "metadata": {
        "colab": {
          "base_uri": "https://localhost:8080/"
        },
        "id": "lyjOCWfK2T1q",
        "outputId": "a1d554c0-2e0e-4962-e988-191a8fd77fed"
      },
      "execution_count": null,
      "outputs": [
        {
          "output_type": "stream",
          "name": "stdout",
          "text": [
            "Model: \"model_5\"\n",
            "_________________________________________________________________\n",
            " Layer (type)                Output Shape              Param #   \n",
            "=================================================================\n",
            " input_6 (InputLayer)        [(None, 64)]              0         \n",
            "                                                                 \n",
            " dense_15 (Dense)            (None, 32)                2080      \n",
            "                                                                 \n",
            " dense_16 (Dense)            (None, 32)                1056      \n",
            "                                                                 \n",
            " dense_17 (Dense)            (None, 10)                330       \n",
            "                                                                 \n",
            "=================================================================\n",
            "Total params: 3,466\n",
            "Trainable params: 3,466\n",
            "Non-trainable params: 0\n",
            "_________________________________________________________________\n"
          ]
        }
      ]
    },
    {
      "cell_type": "code",
      "source": [
        "# @title Modeli eğitelim\n",
        "model.fit(\n",
        "    X_train,\n",
        "    y_train,\n",
        "    epochs=20,\n",
        "    verbose=1\n",
        ")"
      ],
      "metadata": {
        "colab": {
          "base_uri": "https://localhost:8080/"
        },
        "id": "leK6uW_f4KpD",
        "outputId": "7530b29e-59d4-4f52-94d7-9454afb50740",
        "cellView": "form"
      },
      "execution_count": null,
      "outputs": [
        {
          "output_type": "stream",
          "name": "stdout",
          "text": [
            "Epoch 1/20\n",
            "43/43 [==============================] - 1s 2ms/step - loss: 2.2906 - sparse_categorical_accuracy: 0.1712\n",
            "Epoch 2/20\n",
            "43/43 [==============================] - 0s 2ms/step - loss: 2.2515 - sparse_categorical_accuracy: 0.4291\n",
            "Epoch 3/20\n",
            "43/43 [==============================] - 0s 2ms/step - loss: 2.1678 - sparse_categorical_accuracy: 0.5334\n",
            "Epoch 4/20\n",
            "43/43 [==============================] - 0s 2ms/step - loss: 2.0192 - sparse_categorical_accuracy: 0.6348\n",
            "Epoch 5/20\n",
            "43/43 [==============================] - 0s 2ms/step - loss: 1.7914 - sparse_categorical_accuracy: 0.6561\n",
            "Epoch 6/20\n",
            "43/43 [==============================] - 0s 2ms/step - loss: 1.5181 - sparse_categorical_accuracy: 0.7370\n",
            "Epoch 7/20\n",
            "43/43 [==============================] - 0s 2ms/step - loss: 1.2651 - sparse_categorical_accuracy: 0.7531\n",
            "Epoch 8/20\n",
            "43/43 [==============================] - 0s 2ms/step - loss: 1.0588 - sparse_categorical_accuracy: 0.7972\n",
            "Epoch 9/20\n",
            "43/43 [==============================] - 0s 3ms/step - loss: 0.9032 - sparse_categorical_accuracy: 0.8097\n",
            "Epoch 10/20\n",
            "43/43 [==============================] - 0s 3ms/step - loss: 0.7908 - sparse_categorical_accuracy: 0.8251\n",
            "Epoch 11/20\n",
            "43/43 [==============================] - 0s 2ms/step - loss: 0.7074 - sparse_categorical_accuracy: 0.8325\n",
            "Epoch 12/20\n",
            "43/43 [==============================] - 0s 3ms/step - loss: 0.6394 - sparse_categorical_accuracy: 0.8567\n",
            "Epoch 13/20\n",
            "43/43 [==============================] - 0s 3ms/step - loss: 0.5828 - sparse_categorical_accuracy: 0.8626\n",
            "Epoch 14/20\n",
            "43/43 [==============================] - 0s 2ms/step - loss: 0.5389 - sparse_categorical_accuracy: 0.8670\n",
            "Epoch 15/20\n",
            "43/43 [==============================] - 0s 2ms/step - loss: 0.4999 - sparse_categorical_accuracy: 0.8736\n",
            "Epoch 16/20\n",
            "43/43 [==============================] - 0s 2ms/step - loss: 0.4701 - sparse_categorical_accuracy: 0.8802\n",
            "Epoch 17/20\n",
            "43/43 [==============================] - 0s 2ms/step - loss: 0.4444 - sparse_categorical_accuracy: 0.8846\n",
            "Epoch 18/20\n",
            "43/43 [==============================] - 0s 2ms/step - loss: 0.4197 - sparse_categorical_accuracy: 0.8898\n",
            "Epoch 19/20\n",
            "43/43 [==============================] - 0s 2ms/step - loss: 0.3957 - sparse_categorical_accuracy: 0.8993\n",
            "Epoch 20/20\n",
            "43/43 [==============================] - 0s 2ms/step - loss: 0.3791 - sparse_categorical_accuracy: 0.8964\n"
          ]
        },
        {
          "output_type": "execute_result",
          "data": {
            "text/plain": [
              "<keras.callbacks.History at 0x7d15f867cd90>"
            ]
          },
          "metadata": {},
          "execution_count": 262
        }
      ]
    },
    {
      "cell_type": "code",
      "source": [
        "# @title Kalibrasyon kümesinin ilk versi için tahmin alalım\n",
        "np.set_printoptions(precision=5, suppress=True)\n",
        "predictions = model.predict(X_cal, verbose=0)\n",
        "model.predict(X_cal, verbose=0)[0]"
      ],
      "metadata": {
        "id": "cviBlMJe7Vrl",
        "colab": {
          "base_uri": "https://localhost:8080/"
        },
        "outputId": "27298b5f-2850-4ac7-f479-c6d2a539079e"
      },
      "execution_count": null,
      "outputs": [
        {
          "output_type": "execute_result",
          "data": {
            "text/plain": [
              "array([0.00024, 0.0001 , 0.00003, 0.00019, 0.0003 , 0.98026, 0.00021,\n",
              "       0.01268, 0.00334, 0.00264], dtype=float32)"
            ]
          },
          "metadata": {},
          "execution_count": 263
        }
      ]
    },
    {
      "cell_type": "code",
      "source": [
        "# @title Sadece doğru sınıfın olasılığı\n",
        "n = len(X_cal)\n",
        "prob_true_class  = predictions[np.arange(n),y_cal]\n",
        "prob_true_class[0]"
      ],
      "metadata": {
        "colab": {
          "base_uri": "https://localhost:8080/"
        },
        "cellView": "form",
        "id": "k2O63IcKOAWo",
        "outputId": "805d48ed-738d-4c67-bb91-4de89c0b700e"
      },
      "execution_count": null,
      "outputs": [
        {
          "output_type": "execute_result",
          "data": {
            "text/plain": [
              "0.9802626"
            ]
          },
          "metadata": {},
          "execution_count": 264
        }
      ]
    },
    {
      "cell_type": "code",
      "source": [
        "# @title Tüm kalibrasyon kümesinin skorlarını bulalım\n",
        "scores = 1 - prob_true_class"
      ],
      "metadata": {
        "id": "Gr2fR1NnQNo6"
      },
      "execution_count": null,
      "outputs": []
    },
    {
      "cell_type": "code",
      "source": [
        "# @title Alfa değerini 0.05 alarak eşik değerimizi hesaplayalım\n",
        "alpha = 0.05\n",
        "# define quantile\n",
        "q_level = (n+1)*(1-alpha)/n\n",
        "qhat = np.quantile(scores, q_level, method='higher')\n",
        "print(\"Eşik\", qhat)"
      ],
      "metadata": {
        "colab": {
          "base_uri": "https://localhost:8080/"
        },
        "id": "G1wogoeJQomG",
        "outputId": "a4ae9447-f559-4dac-e259-9c3bf6b59161"
      },
      "execution_count": null,
      "outputs": [
        {
          "output_type": "stream",
          "name": "stdout",
          "text": [
            "Eşik 0.7811421\n"
          ]
        }
      ]
    },
    {
      "cell_type": "code",
      "source": [
        "# @title Skorların dağılımın görelim\n",
        "import matplotlib.pyplot as plt\n",
        "\n",
        "# Get the \"probabilities\" from the model\n",
        "# Get for each instance the actual probability of ground truth\n",
        "prob_for_true_class = predictions[np.arange(len(y_cal)),y_cal]\n",
        "# Create a histogram\n",
        "plt.hist(1 - prob_for_true_class, bins=30, range=(0, 1))\n",
        "plt.axvline(x = qhat, color = 'b')\n",
        "# Add a title and labels\n",
        "plt.xlabel(\"1 - s(y,x)\")\n",
        "plt.ylabel(\"Frequency\")"
      ],
      "metadata": {
        "colab": {
          "base_uri": "https://localhost:8080/",
          "height": 467
        },
        "cellView": "form",
        "id": "SDmn-MDGQuBq",
        "outputId": "8af3a3b2-213f-4799-900b-81a7ab0f927c"
      },
      "execution_count": null,
      "outputs": [
        {
          "output_type": "execute_result",
          "data": {
            "text/plain": [
              "Text(0, 0.5, 'Frequency')"
            ]
          },
          "metadata": {},
          "execution_count": 267
        },
        {
          "output_type": "display_data",
          "data": {
            "text/plain": [
              "<Figure size 640x480 with 1 Axes>"
            ],
            "image/png": "[encoded data removed]"
          },
          "metadata": {}
        }
      ]
    },
    {
      "cell_type": "code",
      "source": [
        "# @title Kalibrasyonlu tahmin kümelerimizi oluşturalım\n",
        "prediction_sets = (1 - model.predict(X_new, verbose=0) <= qhat)"
      ],
      "metadata": {
        "id": "1tcRUJuKR0ku"
      },
      "execution_count": null,
      "outputs": []
    },
    {
      "cell_type": "code",
      "source": [
        "# @title İlk 10 hiç kullanılmamış veri için sonuçları görelim\n",
        "for i in range(10):\n",
        "  print(prediction_sets[i])"
      ],
      "metadata": {
        "colab": {
          "base_uri": "https://localhost:8080/"
        },
        "cellView": "form",
        "id": "xTPQTh4YSR0e",
        "outputId": "993bf684-31a4-4c50-9264-e4ed448ca48c"
      },
      "execution_count": null,
      "outputs": [
        {
          "output_type": "stream",
          "name": "stdout",
          "text": [
            "[False False False False  True False False False False False]\n",
            "[False False False False False False False  True  True False]\n",
            "[False  True False False False False False False  True False]\n",
            "[False False False  True False False False False False False]\n",
            "[False False False False False False False False False  True]\n",
            "[False False False False False  True False False False  True]\n",
            "[ True False False False False False False False False False]\n",
            "[False False False False False  True False False False False]\n",
            "[ True False False False False False False False False False]\n",
            "[False False False False  True False False False False False]\n"
          ]
        }
      ]
    },
    {
      "cell_type": "code",
      "source": [
        "# @title Altıncı örneğin sonuçlarını görelim\n",
        "prediction_sets[5]"
      ],
      "metadata": {
        "colab": {
          "base_uri": "https://localhost:8080/"
        },
        "id": "KclL9VNFVZwx",
        "outputId": "e8024aaa-cca6-453c-d214-70e69ae4ffe3"
      },
      "execution_count": null,
      "outputs": [
        {
          "output_type": "execute_result",
          "data": {
            "text/plain": [
              "array([False, False, False, False, False,  True, False, False, False,\n",
              "        True])"
            ]
          },
          "metadata": {},
          "execution_count": 283
        }
      ]
    },
    {
      "cell_type": "code",
      "source": [
        "# @title Altıncı örneğin resmini görelim\n",
        "plt.imshow(X_new[5].reshape(8, 8), cmap='binary', interpolation='nearest')\n"
      ],
      "metadata": {
        "colab": {
          "base_uri": "https://localhost:8080/",
          "height": 448
        },
        "cellView": "form",
        "id": "islwHhCfWY79",
        "outputId": "84ce1468-c6aa-43cf-b277-4e0ac5cfe422"
      },
      "execution_count": null,
      "outputs": [
        {
          "output_type": "execute_result",
          "data": {
            "text/plain": [
              "<matplotlib.image.AxesImage at 0x7d15e6feb0a0>"
            ]
          },
          "metadata": {},
          "execution_count": 284
        },
        {
          "output_type": "display_data",
          "data": {
            "text/plain": [
              "<Figure size 640x480 with 1 Axes>"
            ],
            "image/png": "[encoded data removed]"
          },
          "metadata": {}
        }
      ]
    },
    {
      "cell_type": "code",
      "source": [
        "# @title Konformal tahmin fonksiyonunu oluşturalım\n",
        "def model_cal_pred(x):\n",
        "  classes = 1 - model.predict(x.reshape(1, 64), verbose=0) <= qhat\n",
        "  for i in range(10):\n",
        "    if classes[0][i] == True:\n",
        "      print(\"Tahmin: \", i, \"Olasılık: \", model.predict(x.reshape(1, 64), verbose=0)[0][i])\n"
      ],
      "metadata": {
        "id": "U5seAoIeYNdC"
      },
      "execution_count": null,
      "outputs": []
    },
    {
      "cell_type": "code",
      "source": [
        "# @title Altıncı örnek için sonuçları görelim\n",
        "model_cal_pred(X_new[5])"
      ],
      "metadata": {
        "colab": {
          "base_uri": "https://localhost:8080/"
        },
        "id": "358I2hNEgVTi",
        "outputId": "398d9750-7c37-4c24-b6cc-4c6e1973e08a"
      },
      "execution_count": null,
      "outputs": [
        {
          "output_type": "stream",
          "name": "stdout",
          "text": [
            "Tahmin:  5 Olasılık:  0.24454334\n",
            "Tahmin:  9 Olasılık:  0.5566617\n"
          ]
        }
      ]
    },
    {
      "cell_type": "markdown",
      "source": [
        "Kaynak: C. Molnar, Introduction To Conformal Prediction With Python: A Short Guide For Quantifying Uncertainty Of Machine Learning Models, 2023."
      ],
      "metadata": {
        "id": "pUd9AFr-vzmS"
      }
    }
  ]
}